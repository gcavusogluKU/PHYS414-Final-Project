{
 "cells": [
  {
   "cell_type": "code",
   "execution_count": 1,
   "metadata": {},
   "outputs": [],
   "source": [
    "import numpy as np\n",
    "import matplotlib.pyplot as plt"
   ]
  },
  {
   "cell_type": "code",
   "execution_count": 2,
   "metadata": {},
   "outputs": [],
   "source": [
    "def read_WD_csv(filename):\n",
    "    with open(filename, 'r') as f:  #Open safely using with statement\n",
    "        lines = f.readlines()[1:]   #Read all lines except first into array\n",
    "    data = []\n",
    "    for line in lines:              #Iterate\n",
    "        _splitted = line.strip().split(',') #Split lines from delimiter ,\n",
    "        data.append([_splitted[0],_splitted[1],_splitted[2]])   #Append name of the white dwarf, logg and M to list\n",
    "    data = np.array(data)           #Convert list of lists to nparray\n",
    "    return data[:,0], data[:,1].astype(np.float64), data[:,2].astype(np.float64) #First column is name, second is logg, and third is M."
   ]
  },
  {
   "cell_type": "code",
   "execution_count": null,
   "metadata": {},
   "outputs": [],
   "source": []
  }
 ],
 "metadata": {
  "kernelspec": {
   "display_name": "Python 3",
   "language": "python",
   "name": "python3"
  },
  "language_info": {
   "codemirror_mode": {
    "name": "ipython",
    "version": 3
   },
   "file_extension": ".py",
   "mimetype": "text/x-python",
   "name": "python",
   "nbconvert_exporter": "python",
   "pygments_lexer": "ipython3",
   "version": "3.9.13"
  }
 },
 "nbformat": 4,
 "nbformat_minor": 2
}
